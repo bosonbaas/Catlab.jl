{
 "cells": [
  {
   "cell_type": "markdown",
   "metadata": {},
   "source": [
    "# SELF Demo\n",
    "\n",
    "This notebook will provide a quick walkthrough and explanation of the SELF library for database generation and querying"
   ]
  },
  {
   "cell_type": "code",
   "execution_count": 1,
   "metadata": {},
   "outputs": [],
   "source": [
    "# Import necessary libraries\n",
    "using Catlab;\n",
    "using Schema.QueryLib, Schema.Presentation, Schema.Interface;\n",
    "import Schema.Presentation: Schema, sql;"
   ]
  },
  {
   "cell_type": "markdown",
   "metadata": {},
   "source": [
    "## Define the Schema\n",
    "\n",
    "The first step is to define the database schema by defining the **data types** and **tables**. These are presented as objects and homomorphisms of a category. "
   ]
  },
  {
   "cell_type": "code",
   "execution_count": 2,
   "metadata": {},
   "outputs": [],
   "source": [
    "Name = Ob(FreeAbBiRelMeetJoin, (:full_name, (first=String, last=String)));\n",
    "Person = Ob(FreeAbBiRelMeetJoin, (:person, (id=Int,)));\n",
    "X = Ob(FreeAbBiRelMeetJoin, Int);\n",
    "F = Ob(FreeAbBiRelMeetJoin, Float64);\n",
    "ID = Ob(FreeAbBiRelMeetJoin, (:ID, (id=Int,)));\n",
    "\n",
    "types = [Name, Person, X,F,ID];"
   ]
  },
  {
   "cell_type": "code",
   "execution_count": 38,
   "metadata": {},
   "outputs": [],
   "source": [
    "full_names = Hom((name=:names, fields=(\"person\", \"full_name\")), Person, Name);\n",
    "employees = Hom((name=:employees, fields=(\"person\", \"ID\")), Person, ID);\n",
    "customers = Hom((name=:customers, fields=(\"person\", \"ID\")), Person, ID);\n",
    "manager = Hom((name=:manager, fields=(\"person\", \"manager\")), Person, Person);\n",
    "salary = Hom((name=:salary, fields=(\"person\", \"salary\")), Person, F);\n",
    "\n",
    "tables = [full_names, employees, customers, manager, salary];"
   ]
  },
  {
   "cell_type": "markdown",
   "metadata": {},
   "source": [
    "## Generate the Schema\n",
    "We then create the schema and generate the commands for initializing the database"
   ]
  },
  {
   "cell_type": "code",
   "execution_count": 10,
   "metadata": {},
   "outputs": [],
   "source": [
    "schema = Schema(types, tables);"
   ]
  },
  {
   "cell_type": "code",
   "execution_count": 11,
   "metadata": {},
   "outputs": [
    {
     "name": "stdout",
     "output_type": "stream",
     "text": [
      "CREATE TYPE full_name as (first text, last text);\n",
      "CREATE TYPE person as (id int);\n",
      "-- primitive type int;\n",
      "-- primitive type float4;\n",
      "CREATE TYPE ID as (id int);\n",
      "CREATE TABLE names ( person person, full_name full_name);\n",
      "CREATE TABLE employees ( person person, ID ID);\n",
      "CREATE TABLE customers ( person person, ID ID);\n",
      "CREATE TABLE manager ( person person, manager person);\n",
      "CREATE TABLE salary ( person person,salary float4);\n"
     ]
    }
   ],
   "source": [
    "prim, tab = sql(schema);\n",
    "println(join(prim,\"\\n\"));\n",
    "println(join(tab, \"\\n\"));"
   ]
  },
  {
   "cell_type": "markdown",
   "metadata": {},
   "source": [
    "## Create Queries\n",
    "Now we can create queries for the database using our algebraic format"
   ]
  },
  {
   "cell_type": "code",
   "execution_count": 12,
   "metadata": {},
   "outputs": [],
   "source": [
    "formula = dagger(full_names)⋅salary;"
   ]
  },
  {
   "cell_type": "code",
   "execution_count": 13,
   "metadata": {},
   "outputs": [
    {
     "name": "stdout",
     "output_type": "stream",
     "text": [
      "SELECT DISTINCT A.full_name AS full_name,\n",
      "B.salary AS salary\n",
      "FROM (Select * from names) AS A\n",
      " INNER JOIN (Select * from salary) AS B ON\n",
      "A.person=B.person\n"
     ]
    }
   ],
   "source": [
    "query(f) = make_query(schema, f).query;\n",
    "println(query(formula));"
   ]
  },
  {
   "cell_type": "markdown",
   "metadata": {},
   "source": [
    "## Connect Directly to Database"
   ]
  },
  {
   "cell_type": "code",
   "execution_count": 14,
   "metadata": {},
   "outputs": [],
   "source": [
    "conn = Connection(\"dbname=e3isd\");"
   ]
  },
  {
   "cell_type": "code",
   "execution_count": 16,
   "metadata": {},
   "outputs": [
    {
     "name": "stdout",
     "output_type": "stream",
     "text": [
      "1×2 DataFrames.DataFrame\n",
      "│ Row │ full_name   │ salary   │\n",
      "│     │ \u001b[90mString?\u001b[39m     │ \u001b[90mFloat32?\u001b[39m │\n",
      "├─────┼─────────────┼──────────┤\n",
      "│ 1   │ (Bob,Jones) │ 50000.0  │\n"
     ]
    }
   ],
   "source": [
    "statement = prepare(conn, schema, dagger(full_names)⋅salary)\n",
    "println(execute(statement, [\"Bob\", \"Jones\"]))"
   ]
  },
  {
   "cell_type": "code",
   "execution_count": 25,
   "metadata": {},
   "outputs": [],
   "source": [
    "using Catlab.WiringDiagrams\n",
    "\n",
    "using Catlab.Graphics, Catlab.Doctrines\n",
    "import Catlab.Graphics: Graphviz"
   ]
  },
  {
   "cell_type": "code",
   "execution_count": 18,
   "metadata": {},
   "outputs": [
    {
     "data": {
      "text/plain": [
       "show_diagram (generic function with 1 method)"
      ]
     },
     "execution_count": 18,
     "metadata": {},
     "output_type": "execute_result"
    }
   ],
   "source": [
    "show_diagram(d::WiringDiagram) = to_graphviz(d,\n",
    "  orientation=LeftToRight,\n",
    "  labels=true, label_attr=:xlabel,\n",
    "  node_attrs=Graphviz.Attributes(\n",
    "    :fontname => \"Courier\",\n",
    "  ),\n",
    "  edge_attrs=Graphviz.Attributes(\n",
    "    :fontname => \"Courier\",\n",
    "  )\n",
    ")"
   ]
  },
  {
   "cell_type": "code",
   "execution_count": 23,
   "metadata": {},
   "outputs": [
    {
     "ename": "ErrorException",
     "evalue": "type BoxOp has no field value",
     "output_type": "error",
     "traceback": [
      "type BoxOp has no field value",
      "",
      "Stacktrace:",
      " [1] getproperty(::BoxOp{:dagger}, ::Symbol) at ./Base.jl:20",
      " [2] #graphviz_box#5(::LayoutOrientation, ::Bool, ::String, ::OrderedCollections.OrderedDict{Symbol,Union{String, Catlab.Graphics.Graphviz.Html}}, ::Base.Iterators.Pairs{Symbol,String,Tuple{Symbol},NamedTuple{(:junction_size,),Tuple{String}}}, ::typeof(Catlab.Graphics.GraphvizWiringDiagrams.graphviz_box), ::BoxOp{:dagger}, ::String) at /Users/abaas3/.julia/packages/Catlab/UwJyz/src/graphics/GraphvizWiringDiagrams.jl:155",
      " [3] (::Catlab.Graphics.GraphvizWiringDiagrams.var\"#kw##graphviz_box\")(::NamedTuple{(:orientation, :labels, :port_size, :junction_size, :cell_attrs),Tuple{LayoutOrientation,Bool,String,String,OrderedCollections.OrderedDict{Symbol,Union{String, Catlab.Graphics.Graphviz.Html}}}}, ::typeof(Catlab.Graphics.GraphvizWiringDiagrams.graphviz_box), ::BoxOp{:dagger}, ::String) at ./none:0",
      " [4] #to_graphviz#1(::String, ::LayoutOrientation, ::Bool, ::Bool, ::Symbol, ::String, ::String, ::Bool, ::Bool, ::Dict{Any,Any}, ::OrderedCollections.OrderedDict{Symbol,Union{String, Catlab.Graphics.Graphviz.Html}}, ::OrderedCollections.OrderedDict{Symbol,Union{String, Catlab.Graphics.Graphviz.Html}}, ::Dict{Any,Any}, ::typeof(to_graphviz), ::WiringDiagram{Catlab.Doctrines.AbelianBicategoryRelations.Hom}) at /Users/abaas3/.julia/packages/Catlab/UwJyz/src/graphics/GraphvizWiringDiagrams.jl:102",
      " [5] #to_graphviz at ./none:0 [inlined]",
      " [6] show_diagram(::WiringDiagram{Catlab.Doctrines.AbelianBicategoryRelations.Hom}) at ./In[18]:1",
      " [7] top-level scope at In[23]:2"
     ]
    }
   ],
   "source": [
    "w_names = to_wiring_diagram(formula)\n",
    "show_diagram(w_names)"
   ]
  },
  {
   "cell_type": "code",
   "execution_count": 32,
   "metadata": {},
   "outputs": [
    {
     "data": {
      "text/latex": [
       "$h : C \\to D$"
      ],
      "text/plain": [
       "h"
      ]
     },
     "execution_count": 32,
     "metadata": {},
     "output_type": "execute_result"
    }
   ],
   "source": [
    "A, B, C, D = Ob(FreeAbBiRelMeetJoin, :A, :B, :C, :D)\n",
    "f = Hom(:f, Name, B)\n",
    "g = Hom(:g, B, C)\n",
    "h = Hom(:h, C, D)"
   ]
  },
  {
   "cell_type": "code",
   "execution_count": 33,
   "metadata": {},
   "outputs": [
    {
     "data": {
      "text/plain": [
       "WiringDiagram{Catlab.Doctrines.AbelianBicategoryRelations.Hom}([(:full_name, (first = String, last = String))], [:B], \n",
       "[ 1 => {inputs},\n",
       "  2 => {outputs},\n",
       "  3 => Box(:f, [(:full_name, (first = String, last = String))], [:B]) ],\n",
       "[ Wire((1,1) => (3,1)),\n",
       "  Wire((3,1) => (2,1)) ])"
      ]
     },
     "execution_count": 33,
     "metadata": {},
     "output_type": "execute_result"
    }
   ],
   "source": [
    "f, g, h = to_wiring_diagram(f), to_wiring_diagram(g), to_wiring_diagram(h)\n",
    "f"
   ]
  },
  {
   "cell_type": "code",
   "execution_count": 39,
   "metadata": {},
   "outputs": [
    {
     "name": "stderr",
     "output_type": "stream",
     "text": [
      "Error: <stdin>: syntax error in line 19 near '\"'\n"
     ]
    },
    {
     "data": {
      "text/plain": [
       "Catlab.Graphics.Graphviz.Graph(\"G\", true, Catlab.Graphics.Graphviz.Statement[Catlab.Graphics.Graphviz.Subgraph(\"\", Catlab.Graphics.Graphviz.Statement[Catlab.Graphics.Graphviz.Node(\"n1p1\", OrderedCollections.OrderedDict{Symbol,Union{String, Catlab.Graphics.Graphviz.Html}}(:id => \"in1\")), Catlab.Graphics.Graphviz.Edge(Catlab.Graphics.Graphviz.NodeID[Catlab.Graphics.Graphviz.NodeID(\"n1p1\", \"\", \"\")], OrderedCollections.OrderedDict{Symbol,Union{String, Catlab.Graphics.Graphviz.Html}}())], OrderedCollections.OrderedDict{Symbol,Union{String, Catlab.Graphics.Graphviz.Html}}(:rank => \"source\",:rankdir => \"TB\"), OrderedCollections.OrderedDict{Symbol,Union{String, Catlab.Graphics.Graphviz.Html}}(:style => \"invis\",:shape => \"none\",:label => \"\",:width => \"0.333\",:height => \"0\"), OrderedCollections.OrderedDict{Symbol,Union{String, Catlab.Graphics.Graphviz.Html}}(:style => \"invis\")), Catlab.Graphics.Graphviz.Subgraph(\"\", Catlab.Graphics.Graphviz.Statement[Catlab.Graphics.Graphviz.Node(\"n2p1\", OrderedCollections.OrderedDict{Symbol,Union{String, Catlab.Graphics.Graphviz.Html}}(:id => \"out1\")), Catlab.Graphics.Graphviz.Edge(Catlab.Graphics.Graphviz.NodeID[Catlab.Graphics.Graphviz.NodeID(\"n2p1\", \"\", \"\")], OrderedCollections.OrderedDict{Symbol,Union{String, Catlab.Graphics.Graphviz.Html}}())], OrderedCollections.OrderedDict{Symbol,Union{String, Catlab.Graphics.Graphviz.Html}}(:rank => \"sink\",:rankdir => \"TB\"), OrderedCollections.OrderedDict{Symbol,Union{String, Catlab.Graphics.Graphviz.Html}}(:style => \"invis\",:shape => \"none\",:label => \"\",:width => \"0.333\",:height => \"0\"), OrderedCollections.OrderedDict{Symbol,Union{String, Catlab.Graphics.Graphviz.Html}}(:style => \"invis\")), Catlab.Graphics.Graphviz.Node(\"n3\", OrderedCollections.OrderedDict{Symbol,Union{String, Catlab.Graphics.Graphviz.Html}}(:comment => \"(name = :salary, fields = (\\\"person\\\", \\\"salary\\\"))\",:id => \"n3\",:label => Catlab.Graphics.Graphviz.Html(\"<TABLE BORDER=\\\"0\\\" CELLPADDING=\\\"0\\\" CELLSPACING=\\\"0\\\">\\n<TR>\\n<TD><TABLE BORDER=\\\"0\\\" CELLPADDING=\\\"0\\\" CELLSPACING=\\\"0\\\"><TR><TD HEIGHT=\\\"24\\\" WIDTH=\\\"0\\\" PORT=\\\"in1\\\"></TD></TR></TABLE></TD>\\n<TD BORDER=\\\"1\\\" CELLPADDING=\\\"4\\\">(name = :salary, fields = (&quot;person&quot;, &quot;salary&quot;))</TD>\\n<TD><TABLE BORDER=\\\"0\\\" CELLPADDING=\\\"0\\\" CELLSPACING=\\\"0\\\"><TR><TD HEIGHT=\\\"24\\\" WIDTH=\\\"0\\\" PORT=\\\"out1\\\"></TD></TR></TABLE></TD>\\n</TR>\\n</TABLE>\"))), Catlab.Graphics.Graphviz.Edge(Catlab.Graphics.Graphviz.NodeID[Catlab.Graphics.Graphviz.NodeID(\"n1p1\", \"e\", \"\"), Catlab.Graphics.Graphviz.NodeID(\"n3\", \"in1\", \"w\")], OrderedCollections.OrderedDict{Symbol,Union{String, Catlab.Graphics.Graphviz.Html}}(:comment => \"(:person, (id = Int64,))\",:id => \"e1\",:xlabel => \"(:person, (id = Int64,))\")), Catlab.Graphics.Graphviz.Edge(Catlab.Graphics.Graphviz.NodeID[Catlab.Graphics.Graphviz.NodeID(\"n3\", \"out1\", \"e\"), Catlab.Graphics.Graphviz.NodeID(\"n2p1\", \"w\", \"\")], OrderedCollections.OrderedDict{Symbol,Union{String, Catlab.Graphics.Graphviz.Html}}(:comment => \"Float64\",:id => \"e2\",:xlabel => \"Float64\"))], OrderedCollections.OrderedDict{Symbol,Union{String, Catlab.Graphics.Graphviz.Html}}(:fontname => \"Serif\",:rankdir => \"LR\"), OrderedCollections.OrderedDict{Symbol,Union{String, Catlab.Graphics.Graphviz.Html}}(:fontname => \"Courier\",:shape => \"none\",:width => \"0\",:height => \"0\",:margin => \"0\"), OrderedCollections.OrderedDict{Symbol,Union{String, Catlab.Graphics.Graphviz.Html}}(:arrowsize => \"0.5\",:fontname => \"Courier\"))"
      ]
     },
     "execution_count": 39,
     "metadata": {},
     "output_type": "execute_result"
    }
   ],
   "source": [
    "show_diagram(to_wiring_diagram(salary))"
   ]
  },
  {
   "cell_type": "code",
   "execution_count": 40,
   "metadata": {},
   "outputs": [
    {
     "data": {
      "image/svg+xml": [
       "<?xml version=\"1.0\" encoding=\"UTF-8\" standalone=\"no\"?>\n",
       "<!DOCTYPE svg PUBLIC \"-//W3C//DTD SVG 1.1//EN\"\n",
       " \"http://www.w3.org/Graphics/SVG/1.1/DTD/svg11.dtd\">\n",
       "<!-- Generated by graphviz version 2.43.0 (0)\n",
       " -->\n",
       "<!-- Title: G Pages: 1 -->\n",
       "<svg width=\"482pt\" height=\"34pt\"\n",
       " viewBox=\"0.00 0.00 482.16 34.00\" xmlns=\"http://www.w3.org/2000/svg\" xmlns:xlink=\"http://www.w3.org/1999/xlink\">\n",
       "<g id=\"graph0\" class=\"graph\" transform=\"scale(1 1) rotate(0) translate(4 30)\">\n",
       "<title>G</title>\n",
       "<polygon fill=\"white\" stroke=\"transparent\" points=\"-4,4 -4,-30 478.16,-30 478.16,4 -4,4\"/>\n",
       "<!-- n1p1 -->\n",
       "<!-- n3 -->\n",
       "<!-- f -->\n",
       "<g id=\"n3\" class=\"node\">\n",
       "<title>n3</title>\n",
       "<polygon fill=\"none\" stroke=\"black\" points=\"396.16,-2 396.16,-26 414.16,-26 414.16,-2 396.16,-2\"/>\n",
       "<text text-anchor=\"start\" x=\"400.96\" y=\"-9.8\" font-family=\"Courier,monospace\" font-size=\"14.00\">f</text>\n",
       "</g>\n",
       "<!-- n1p1&#45;&gt;n3 -->\n",
       "<!-- (:full_name, (first = String, last = String)) -->\n",
       "<g id=\"e1\" class=\"edge\">\n",
       "<title>n1p1:e&#45;&gt;n3:w</title>\n",
       "<path fill=\"none\" stroke=\"black\" d=\"M360.16,-14C374.29,-14 379.06,-14 390.99,-14\"/>\n",
       "<polygon fill=\"black\" stroke=\"black\" points=\"391.16,-15.75 396.16,-14 391.16,-12.25 391.16,-15.75\"/>\n",
       "<text text-anchor=\"middle\" x=\"189.03\" y=\"-2.8\" font-family=\"Courier,monospace\" font-size=\"14.00\">(:full_name, (first = String, last = String))</text>\n",
       "</g>\n",
       "<!-- n2p1 -->\n",
       "<!-- n3&#45;&gt;n2p1 -->\n",
       "<!-- B -->\n",
       "<g id=\"e2\" class=\"edge\">\n",
       "<title>n3:e&#45;&gt;n2p1:w</title>\n",
       "<path fill=\"none\" stroke=\"black\" d=\"M414.16,-14C428.29,-14 433.06,-14 444.99,-14\"/>\n",
       "<polygon fill=\"black\" stroke=\"black\" points=\"445.16,-15.75 450.16,-14 445.16,-12.25 445.16,-15.75\"/>\n",
       "<text text-anchor=\"middle\" x=\"427.86\" y=\"-2.8\" font-family=\"Courier,monospace\" font-size=\"14.00\">B</text>\n",
       "</g>\n",
       "</g>\n",
       "</svg>\n",
       "\n"
      ],
      "text/plain": [
       "Catlab.Graphics.Graphviz.Graph(\"G\", true, Catlab.Graphics.Graphviz.Statement[Catlab.Graphics.Graphviz.Subgraph(\"\", Catlab.Graphics.Graphviz.Statement[Catlab.Graphics.Graphviz.Node(\"n1p1\", OrderedCollections.OrderedDict{Symbol,Union{String, Catlab.Graphics.Graphviz.Html}}(:id => \"in1\")), Catlab.Graphics.Graphviz.Edge(Catlab.Graphics.Graphviz.NodeID[Catlab.Graphics.Graphviz.NodeID(\"n1p1\", \"\", \"\")], OrderedCollections.OrderedDict{Symbol,Union{String, Catlab.Graphics.Graphviz.Html}}())], OrderedCollections.OrderedDict{Symbol,Union{String, Catlab.Graphics.Graphviz.Html}}(:rank => \"source\",:rankdir => \"TB\"), OrderedCollections.OrderedDict{Symbol,Union{String, Catlab.Graphics.Graphviz.Html}}(:style => \"invis\",:shape => \"none\",:label => \"\",:width => \"0.333\",:height => \"0\"), OrderedCollections.OrderedDict{Symbol,Union{String, Catlab.Graphics.Graphviz.Html}}(:style => \"invis\")), Catlab.Graphics.Graphviz.Subgraph(\"\", Catlab.Graphics.Graphviz.Statement[Catlab.Graphics.Graphviz.Node(\"n2p1\", OrderedCollections.OrderedDict{Symbol,Union{String, Catlab.Graphics.Graphviz.Html}}(:id => \"out1\")), Catlab.Graphics.Graphviz.Edge(Catlab.Graphics.Graphviz.NodeID[Catlab.Graphics.Graphviz.NodeID(\"n2p1\", \"\", \"\")], OrderedCollections.OrderedDict{Symbol,Union{String, Catlab.Graphics.Graphviz.Html}}())], OrderedCollections.OrderedDict{Symbol,Union{String, Catlab.Graphics.Graphviz.Html}}(:rank => \"sink\",:rankdir => \"TB\"), OrderedCollections.OrderedDict{Symbol,Union{String, Catlab.Graphics.Graphviz.Html}}(:style => \"invis\",:shape => \"none\",:label => \"\",:width => \"0.333\",:height => \"0\"), OrderedCollections.OrderedDict{Symbol,Union{String, Catlab.Graphics.Graphviz.Html}}(:style => \"invis\")), Catlab.Graphics.Graphviz.Node(\"n3\", OrderedCollections.OrderedDict{Symbol,Union{String, Catlab.Graphics.Graphviz.Html}}(:comment => \"f\",:id => \"n3\",:label => Catlab.Graphics.Graphviz.Html(\"<TABLE BORDER=\\\"0\\\" CELLPADDING=\\\"0\\\" CELLSPACING=\\\"0\\\">\\n<TR>\\n<TD><TABLE BORDER=\\\"0\\\" CELLPADDING=\\\"0\\\" CELLSPACING=\\\"0\\\"><TR><TD HEIGHT=\\\"24\\\" WIDTH=\\\"0\\\" PORT=\\\"in1\\\"></TD></TR></TABLE></TD>\\n<TD BORDER=\\\"1\\\" CELLPADDING=\\\"4\\\">f</TD>\\n<TD><TABLE BORDER=\\\"0\\\" CELLPADDING=\\\"0\\\" CELLSPACING=\\\"0\\\"><TR><TD HEIGHT=\\\"24\\\" WIDTH=\\\"0\\\" PORT=\\\"out1\\\"></TD></TR></TABLE></TD>\\n</TR>\\n</TABLE>\"))), Catlab.Graphics.Graphviz.Edge(Catlab.Graphics.Graphviz.NodeID[Catlab.Graphics.Graphviz.NodeID(\"n1p1\", \"e\", \"\"), Catlab.Graphics.Graphviz.NodeID(\"n3\", \"in1\", \"w\")], OrderedCollections.OrderedDict{Symbol,Union{String, Catlab.Graphics.Graphviz.Html}}(:comment => \"(:full_name, (first = String, last = String))\",:id => \"e1\",:xlabel => \"(:full_name, (first = String, last = String))\")), Catlab.Graphics.Graphviz.Edge(Catlab.Graphics.Graphviz.NodeID[Catlab.Graphics.Graphviz.NodeID(\"n3\", \"out1\", \"e\"), Catlab.Graphics.Graphviz.NodeID(\"n2p1\", \"w\", \"\")], OrderedCollections.OrderedDict{Symbol,Union{String, Catlab.Graphics.Graphviz.Html}}(:comment => \"B\",:id => \"e2\",:xlabel => \"B\"))], OrderedCollections.OrderedDict{Symbol,Union{String, Catlab.Graphics.Graphviz.Html}}(:fontname => \"Serif\",:rankdir => \"LR\"), OrderedCollections.OrderedDict{Symbol,Union{String, Catlab.Graphics.Graphviz.Html}}(:fontname => \"Courier\",:shape => \"none\",:width => \"0\",:height => \"0\",:margin => \"0\"), OrderedCollections.OrderedDict{Symbol,Union{String, Catlab.Graphics.Graphviz.Html}}(:arrowsize => \"0.5\",:fontname => \"Courier\"))"
      ]
     },
     "execution_count": 40,
     "metadata": {},
     "output_type": "execute_result"
    }
   ],
   "source": [
    "show_diagram(f)"
   ]
  },
  {
   "cell_type": "code",
   "execution_count": null,
   "metadata": {},
   "outputs": [],
   "source": []
  }
 ],
 "metadata": {
  "kernelspec": {
   "display_name": "Julia 1.3.1",
   "language": "julia",
   "name": "julia-1.3"
  },
  "language_info": {
   "file_extension": ".jl",
   "mimetype": "application/julia",
   "name": "julia",
   "version": "1.3.1"
  }
 },
 "nbformat": 4,
 "nbformat_minor": 2
}
